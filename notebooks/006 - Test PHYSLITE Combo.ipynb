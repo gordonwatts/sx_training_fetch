{
 "cells": [
  {
   "cell_type": "markdown",
   "id": "774e89c3",
   "metadata": {},
   "source": [
    "# Test PHYSLITE Combination\n",
    "\n",
    "This notebook will test ideas for combining the calibrated values from PHYSLITE and the uncalibrated values from LLP1.\n",
    "\n",
    "* Should be faster than running calibrations of LLP1\n",
    "* Will be an in-memory test, which likely won't work for the full dataset.\n",
    "\n",
    "The datasets we'll use:"
   ]
  },
  {
   "cell_type": "code",
   "execution_count": 1,
   "id": "9891dd43",
   "metadata": {},
   "outputs": [],
   "source": [
    "did_LLP1 = \"mc23_13p6TeV:mc23_13p6TeV.802746.Py8EG_Zprime2EJs_Ld20_rho40_pi10_Zp2600_l1.deriv.DAOD_LLP1.e8531_s4159_r15530_p6463\"\n",
    "did_PHYSLITE = \"mc23_13p6TeV:mc23_13p6TeV.802746.Py8EG_Zprime2EJs_Ld20_rho40_pi10_Zp2600_l1.deriv.DAOD_PHYSLITE.e8531_s4159_r15530_p6491\""
   ]
  },
  {
   "cell_type": "markdown",
   "id": "fe2b6a16",
   "metadata": {},
   "source": [
    "## Imports"
   ]
  },
  {
   "cell_type": "code",
   "execution_count": 2,
   "id": "3321653d",
   "metadata": {},
   "outputs": [],
   "source": [
    "import awkward as ak\n",
    "import numpy as np\n",
    "from func_adl_servicex_xaodr25 import FuncADLQueryPHYSLITE\n",
    "from servicex import Sample, ServiceXSpec, dataset, deliver\n",
    "from servicex_analysis_utils import to_awk\n",
    "\n",
    "from calratio_training_data import RunConfig, fetch_training_data"
   ]
  },
  {
   "cell_type": "markdown",
   "id": "49ee51ba",
   "metadata": {},
   "source": [
    "## Fetching the data\n",
    "\n",
    "First the PHYSLITE data. We have to do this by hand, of course."
   ]
  },
  {
   "cell_type": "code",
   "execution_count": 3,
   "id": "81dc5fb7",
   "metadata": {},
   "outputs": [
    {
     "data": {
      "application/vnd.jupyter.widget-view+json": {
       "model_id": "6dc79e5385464c66ba8470e674a4805d",
       "version_major": 2,
       "version_minor": 0
      },
      "text/plain": [
       "Output()"
      ]
     },
     "metadata": {},
     "output_type": "display_data"
    },
    {
     "data": {
      "text/html": [
       "<pre style=\"white-space:pre;overflow-x:auto;line-height:normal;font-family:Menlo,'DejaVu Sans Mono',consolas,'Courier New',monospace\"></pre>\n"
      ],
      "text/plain": []
     },
     "metadata": {},
     "output_type": "display_data"
    },
    {
     "name": "stdout",
     "output_type": "stream",
     "text": [
      "411807 * Momentum3D[\n",
      "    pt: float32,\n",
      "    eta: float32,\n",
      "    phi: float32,\n",
      "    runNumber: float32,\n",
      "    eventNumber: float32\n",
      "]\n"
     ]
    }
   ],
   "source": [
    "# Define the base query\n",
    "base_query = FuncADLQueryPHYSLITE()\n",
    "\n",
    "# Query to fetch muons and MET\n",
    "query = base_query.Select(\n",
    "    lambda e: {\n",
    "        \"jets\": e.Jets().Where(lambda j: j.pt() >= 40 and abs(j.eta()) < 2.5),\n",
    "        \"event_info\": e.EventInfo(\"EventInfo\"),\n",
    "    }\n",
    ").Select(\n",
    "    lambda e: {\n",
    "        \"jet_pt\": e.jets.Select(lambda jet: jet.pt() / 1000.0),\n",
    "        \"jet_eta\": e.jets.Select(lambda jet: jet.eta()),\n",
    "        \"jet_phi\": e.jets.Select(lambda jet: jet.phi()),\n",
    "        \"run\": e.event_info.runNumber(),\n",
    "        \"event\": e.event_info.eventNumber(),\n",
    "    }\n",
    ")\n",
    "\n",
    "# Fetch the data\n",
    "data = to_awk(\n",
    "    deliver(\n",
    "        ServiceXSpec(\n",
    "            Sample=[\n",
    "                Sample(\n",
    "                    Name=\"did_PHYSLITE\",\n",
    "                    Dataset=dataset.Rucio(did_PHYSLITE),\n",
    "                    Query=query,\n",
    "                )\n",
    "            ]\n",
    "        ),\n",
    "    )\n",
    ")[\"did_PHYSLITE\"]\n",
    "\n",
    "# Next, reformat it so it is per-jet, the way our training data is\n",
    "data_PHYSLITE = ak.values_astype(\n",
    "    ak.zip(\n",
    "        {\n",
    "            \"pt\": ak.flatten(data[\"jet_pt\"]),\n",
    "            \"eta\": ak.flatten(data[\"jet_eta\"]),\n",
    "            \"phi\": ak.flatten(data[\"jet_phi\"]),\n",
    "            \"runNumber\": ak.flatten(\n",
    "                ak.broadcast_arrays(data[\"run\"], data[\"jet_pt\"])[0], axis=1\n",
    "            ),\n",
    "            \"eventNumber\": ak.flatten(\n",
    "                ak.broadcast_arrays(data[\"event\"], data[\"jet_pt\"])[0], axis=1\n",
    "            ),\n",
    "        },\n",
    "        with_name=\"Momentum3D\",\n",
    "    ),\n",
    "    np.float32,\n",
    ")\n",
    "\n",
    "data_PHYSLITE.type.show()"
   ]
  },
  {
   "cell_type": "markdown",
   "id": "b11a74d2",
   "metadata": {},
   "source": [
    "And the training data\n",
    "\n",
    "* For this test we had to turn off the jet cleaning tool, as this version of LLP1 does not have the jet cleaning data. This was done by modifying the source code by hand (and hopefully not checking it in!).\n",
    "    * Modify the `training_query.py` `good_training_jet` function - comment out the call to `jet_clean_llp`."
   ]
  },
  {
   "cell_type": "code",
   "execution_count": 4,
   "id": "df03b6d7",
   "metadata": {},
   "outputs": [
    {
     "data": {
      "application/vnd.jupyter.widget-view+json": {
       "model_id": "34ee8a6d43a441da92a9e2d2159ccd0e",
       "version_major": 2,
       "version_minor": 0
      },
      "text/plain": [
       "Output()"
      ]
     },
     "metadata": {},
     "output_type": "display_data"
    },
    {
     "data": {
      "text/html": [
       "<pre style=\"white-space:pre;overflow-x:auto;line-height:normal;font-family:Menlo,'DejaVu Sans Mono',consolas,'Courier New',monospace\"></pre>\n"
      ],
      "text/plain": []
     },
     "metadata": {},
     "output_type": "display_data"
    },
    {
     "name": "stdout",
     "output_type": "stream",
     "text": [
      "183797 * Momentum3D[\n",
      "    runNumber: uint32,\n",
      "    eventNumber: uint64,\n",
      "    pt: float32,\n",
      "    eta: float32,\n",
      "    phi: float32,\n",
      "    tracks: var * Momentum3D[\n",
      "        eta: float32,\n",
      "        phi: float32,\n",
      "        pt: float32,\n",
      "        vertex_nParticles: float32,\n",
      "        d0: float32,\n",
      "        z0: float32,\n",
      "        chiSquared: float32,\n",
      "        PixelShared: float32,\n",
      "        SCTShared: float32,\n",
      "        PixelHoles: float32,\n",
      "        SCTHoles: float32,\n",
      "        PixelHits: float32,\n",
      "        SCTHits: float32\n",
      "    ],\n",
      "    clusters: var * Momentum3D[\n",
      "        eta: float32,\n",
      "        phi: float32,\n",
      "        pt: float32,\n",
      "        l1hcal: float32,\n",
      "        l2hcal: float32,\n",
      "        l3hcal: float32,\n",
      "        l4hcal: float32,\n",
      "        l1ecal: float32,\n",
      "        l2ecal: float32,\n",
      "        l3ecal: float32,\n",
      "        l4ecal: float32,\n",
      "        time: float32\n",
      "    ],\n",
      "    msegs: var * {\n",
      "        etaPos: float32,\n",
      "        phiPos: float32,\n",
      "        etaDir: float32,\n",
      "        phiDir: float32,\n",
      "        t0: float32,\n",
      "        chiSquared: float32\n",
      "    }\n",
      "]\n"
     ]
    }
   ],
   "source": [
    "data_LLP1 = fetch_training_data(did_LLP1, RunConfig(run_locally=False, ignore_cache=False))\n",
    "data_LLP1.type.show()"
   ]
  },
  {
   "cell_type": "markdown",
   "id": "1f08fb7b",
   "metadata": {},
   "source": [
    "## Combining"
   ]
  },
  {
   "cell_type": "markdown",
   "id": "da64b752",
   "metadata": {},
   "source": [
    "This combination is done in memory to test out the basic mechanism."
   ]
  },
  {
   "cell_type": "code",
   "execution_count": 5,
   "id": "6711166d",
   "metadata": {},
   "outputs": [],
   "source": [
    "def group_by_event(d):\n",
    "    key = ak.zip({\"run\": d.runNumber, \"evt\":d.eventNumber}, depth_limit=1)\n",
    "    run_ordered = ak.argsort(key.run, stable=True)\n",
    "    run_runs = ak.run_lengths(key[run_ordered].run)\n",
    "    key_by_event = ak.unflatten(key[run_ordered], run_runs)\n",
    "\n",
    "    event_ordered = ak.argsort(key_by_event.evt, stable=True, axis=-1)\n",
    "    event_runs = ak.run_lengths(key_by_event[event_ordered].evt)\n",
    "    group_event = ak.unflatten(key_by_event[event_ordered], ak.flatten(event_runs), axis=-1)\n",
    "\n",
    "    return group_event\n",
    "\n",
    "group_event_PHYSLITE = group_by_event(data_PHYSLITE)\n",
    "group_event_LLP1 = group_by_event(data_LLP1)"
   ]
  },
  {
   "cell_type": "code",
   "execution_count": null,
   "id": "33c2b652",
   "metadata": {},
   "outputs": [
    {
     "ename": "TypeError",
     "evalue": "Encountered a scalar (int), but scalar conversion/promotion is disabled",
     "output_type": "error",
     "traceback": [
      "\u001b[31m---------------------------------------------------------------------------\u001b[39m",
      "\u001b[31mTypeError\u001b[39m                                 Traceback (most recent call last)",
      "\u001b[36mCell\u001b[39m\u001b[36m \u001b[39m\u001b[32mIn[73]\u001b[39m\u001b[32m, line 1\u001b[39m\n\u001b[32m----> \u001b[39m\u001b[32m1\u001b[39m group_event_LLP1[\u001b[33m\"\u001b[39m\u001b[33mrun\u001b[39m\u001b[33m\"\u001b[39m] = \u001b[43mak\u001b[49m\u001b[43m.\u001b[49m\u001b[43mArray\u001b[49m\u001b[43m(\u001b[49m\u001b[43m{\u001b[49m\u001b[33;43m'\u001b[39;49m\u001b[33;43mrun\u001b[39;49m\u001b[33;43m'\u001b[39;49m\u001b[43m:\u001b[49m\u001b[43m \u001b[49m\u001b[32;43m450000\u001b[39;49m\u001b[43m}\u001b[49m\u001b[43m)\u001b[49m\n",
      "\u001b[36mFile \u001b[39m\u001b[32mc:\\Users\\gordo\\Code\\atlas\\sx_training_fetch\\.venv\\Lib\\site-packages\\awkward\\highlevel.py:308\u001b[39m, in \u001b[36mArray.__init__\u001b[39m\u001b[34m(self, data, behavior, with_name, check_valid, backend, attrs, named_axis)\u001b[39m\n\u001b[32m    306\u001b[39m \u001b[38;5;28;01mfor\u001b[39;00m k, v \u001b[38;5;129;01min\u001b[39;00m data.items():\n\u001b[32m    307\u001b[39m     fields.append(k)\n\u001b[32m--> \u001b[39m\u001b[32m308\u001b[39m     _arrays.append(\u001b[43mArray\u001b[49m\u001b[43m(\u001b[49m\u001b[43mv\u001b[49m\u001b[43m)\u001b[49m)\n\u001b[32m    309\u001b[39m     \u001b[38;5;28;01mif\u001b[39;00m length \u001b[38;5;129;01mis\u001b[39;00m \u001b[38;5;28;01mNone\u001b[39;00m:\n\u001b[32m    310\u001b[39m         length = _arrays[-\u001b[32m1\u001b[39m].layout.length\n",
      "\u001b[36mFile \u001b[39m\u001b[32mc:\\Users\\gordo\\Code\\atlas\\sx_training_fetch\\.venv\\Lib\\site-packages\\awkward\\highlevel.py:325\u001b[39m, in \u001b[36mArray.__init__\u001b[39m\u001b[34m(self, data, behavior, with_name, check_valid, backend, attrs, named_axis)\u001b[39m\n\u001b[32m    322\u001b[39m     layout = ak.operations.from_json(data, highlevel=\u001b[38;5;28;01mFalse\u001b[39;00m)\n\u001b[32m    324\u001b[39m \u001b[38;5;28;01melse\u001b[39;00m:\n\u001b[32m--> \u001b[39m\u001b[32m325\u001b[39m     layout = \u001b[43mak\u001b[49m\u001b[43m.\u001b[49m\u001b[43moperations\u001b[49m\u001b[43m.\u001b[49m\u001b[43mto_layout\u001b[49m\u001b[43m(\u001b[49m\n\u001b[32m    326\u001b[39m \u001b[43m        \u001b[49m\u001b[43mdata\u001b[49m\u001b[43m,\u001b[49m\u001b[43m \u001b[49m\u001b[43mallow_record\u001b[49m\u001b[43m=\u001b[49m\u001b[38;5;28;43;01mFalse\u001b[39;49;00m\u001b[43m,\u001b[49m\u001b[43m \u001b[49m\u001b[43mregulararray\u001b[49m\u001b[43m=\u001b[49m\u001b[38;5;28;43;01mFalse\u001b[39;49;00m\u001b[43m,\u001b[49m\u001b[43m \u001b[49m\u001b[43mprimitive_policy\u001b[49m\u001b[43m=\u001b[49m\u001b[33;43m\"\u001b[39;49m\u001b[33;43merror\u001b[39;49m\u001b[33;43m\"\u001b[39;49m\n\u001b[32m    327\u001b[39m \u001b[43m    \u001b[49m\u001b[43m)\u001b[49m\n\u001b[32m    329\u001b[39m \u001b[38;5;28;01mif\u001b[39;00m \u001b[38;5;129;01mnot\u001b[39;00m \u001b[38;5;28misinstance\u001b[39m(layout, ak.contents.Content):\n\u001b[32m    330\u001b[39m     \u001b[38;5;28;01mraise\u001b[39;00m \u001b[38;5;167;01mTypeError\u001b[39;00m(\u001b[33m\"\u001b[39m\u001b[33mcould not convert data into an ak.Array\u001b[39m\u001b[33m\"\u001b[39m)\n",
      "\u001b[36mFile \u001b[39m\u001b[32mc:\\Users\\gordo\\Code\\atlas\\sx_training_fetch\\.venv\\Lib\\site-packages\\awkward\\_dispatch.py:41\u001b[39m, in \u001b[36mnamed_high_level_function.<locals>.dispatch\u001b[39m\u001b[34m(*args, **kwargs)\u001b[39m\n\u001b[32m     38\u001b[39m \u001b[38;5;129m@wraps\u001b[39m(func)\n\u001b[32m     39\u001b[39m \u001b[38;5;28;01mdef\u001b[39;00m\u001b[38;5;250m \u001b[39m\u001b[34mdispatch\u001b[39m(*args, **kwargs):\n\u001b[32m     40\u001b[39m     \u001b[38;5;66;03m# NOTE: this decorator assumes that the operation is exposed under `ak.`\u001b[39;00m\n\u001b[32m---> \u001b[39m\u001b[32m41\u001b[39m     \u001b[38;5;28;01mwith\u001b[39;00m OperationErrorContext(name, args, kwargs):\n\u001b[32m     42\u001b[39m         gen_or_result = func(*args, **kwargs)\n\u001b[32m     43\u001b[39m         \u001b[38;5;28;01mif\u001b[39;00m isgenerator(gen_or_result):\n",
      "\u001b[36mFile \u001b[39m\u001b[32mc:\\Users\\gordo\\Code\\atlas\\sx_training_fetch\\.venv\\Lib\\site-packages\\awkward\\_errors.py:80\u001b[39m, in \u001b[36mErrorContext.__exit__\u001b[39m\u001b[34m(self, exception_type, exception_value, traceback)\u001b[39m\n\u001b[32m     78\u001b[39m     \u001b[38;5;28mself\u001b[39m._slate.\u001b[34m__dict__\u001b[39m.clear()\n\u001b[32m     79\u001b[39m     \u001b[38;5;66;03m# Handle caught exception\u001b[39;00m\n\u001b[32m---> \u001b[39m\u001b[32m80\u001b[39m     \u001b[38;5;28;01mraise\u001b[39;00m \u001b[38;5;28mself\u001b[39m.decorate_exception(exception_type, exception_value)\n\u001b[32m     81\u001b[39m \u001b[38;5;28;01melse\u001b[39;00m:\n\u001b[32m     82\u001b[39m     \u001b[38;5;66;03m# Step out of the way so that another ErrorContext can become primary.\u001b[39;00m\n\u001b[32m     83\u001b[39m     \u001b[38;5;28;01mif\u001b[39;00m \u001b[38;5;28mself\u001b[39m.primary() \u001b[38;5;129;01mis\u001b[39;00m \u001b[38;5;28mself\u001b[39m:\n",
      "\u001b[36mFile \u001b[39m\u001b[32mc:\\Users\\gordo\\Code\\atlas\\sx_training_fetch\\.venv\\Lib\\site-packages\\awkward\\_dispatch.py:67\u001b[39m, in \u001b[36mnamed_high_level_function.<locals>.dispatch\u001b[39m\u001b[34m(*args, **kwargs)\u001b[39m\n\u001b[32m     65\u001b[39m \u001b[38;5;66;03m# Failed to find a custom overload, so resume the original function\u001b[39;00m\n\u001b[32m     66\u001b[39m \u001b[38;5;28;01mtry\u001b[39;00m:\n\u001b[32m---> \u001b[39m\u001b[32m67\u001b[39m     \u001b[38;5;28;43mnext\u001b[39;49m\u001b[43m(\u001b[49m\u001b[43mgen_or_result\u001b[49m\u001b[43m)\u001b[49m\n\u001b[32m     68\u001b[39m \u001b[38;5;28;01mexcept\u001b[39;00m \u001b[38;5;167;01mStopIteration\u001b[39;00m \u001b[38;5;28;01mas\u001b[39;00m err:\n\u001b[32m     69\u001b[39m     \u001b[38;5;28;01mreturn\u001b[39;00m err.value\n",
      "\u001b[36mFile \u001b[39m\u001b[32mc:\\Users\\gordo\\Code\\atlas\\sx_training_fetch\\.venv\\Lib\\site-packages\\awkward\\operations\\ak_to_layout.py:80\u001b[39m, in \u001b[36mto_layout\u001b[39m\u001b[34m(array, allow_record, allow_unknown, none_policy, use_from_iter, primitive_policy, string_policy, regulararray)\u001b[39m\n\u001b[32m     77\u001b[39m \u001b[38;5;28;01myield\u001b[39;00m (array,)\n\u001b[32m     79\u001b[39m \u001b[38;5;66;03m# Implementation\u001b[39;00m\n\u001b[32m---> \u001b[39m\u001b[32m80\u001b[39m \u001b[38;5;28;01mreturn\u001b[39;00m \u001b[43m_impl\u001b[49m\u001b[43m(\u001b[49m\n\u001b[32m     81\u001b[39m \u001b[43m    \u001b[49m\u001b[43marray\u001b[49m\u001b[43m,\u001b[49m\n\u001b[32m     82\u001b[39m \u001b[43m    \u001b[49m\u001b[43mallow_record\u001b[49m\u001b[43m,\u001b[49m\n\u001b[32m     83\u001b[39m \u001b[43m    \u001b[49m\u001b[43mallow_unknown\u001b[49m\u001b[43m,\u001b[49m\n\u001b[32m     84\u001b[39m \u001b[43m    \u001b[49m\u001b[43mnone_policy\u001b[49m\u001b[43m,\u001b[49m\n\u001b[32m     85\u001b[39m \u001b[43m    \u001b[49m\u001b[43mregulararray\u001b[49m\u001b[43m,\u001b[49m\n\u001b[32m     86\u001b[39m \u001b[43m    \u001b[49m\u001b[43muse_from_iter\u001b[49m\u001b[43m,\u001b[49m\n\u001b[32m     87\u001b[39m \u001b[43m    \u001b[49m\u001b[43mprimitive_policy\u001b[49m\u001b[43m,\u001b[49m\n\u001b[32m     88\u001b[39m \u001b[43m    \u001b[49m\u001b[43mstring_policy\u001b[49m\u001b[43m,\u001b[49m\n\u001b[32m     89\u001b[39m \u001b[43m\u001b[49m\u001b[43m)\u001b[49m\n",
      "\u001b[36mFile \u001b[39m\u001b[32mc:\\Users\\gordo\\Code\\atlas\\sx_training_fetch\\.venv\\Lib\\site-packages\\awkward\\operations\\ak_to_layout.py:266\u001b[39m, in \u001b[36m_impl\u001b[39m\u001b[34m(obj, allow_record, allow_unknown, none_policy, regulararray, use_from_iter, primitive_policy, string_policy)\u001b[39m\n\u001b[32m    261\u001b[39m         \u001b[38;5;28;01mraise\u001b[39;00m \u001b[38;5;167;01mValueError\u001b[39;00m(\n\u001b[32m    262\u001b[39m             \u001b[33mf\u001b[39m\u001b[33m\"\u001b[39m\u001b[33mEncountered an invalid string policy value \u001b[39m\u001b[38;5;132;01m{\u001b[39;00mprimitive_policy\u001b[38;5;132;01m!r}\u001b[39;00m\u001b[33m. \u001b[39m\u001b[33m\"\u001b[39m\n\u001b[32m    263\u001b[39m             \u001b[33mf\u001b[39m\u001b[33m'\u001b[39m\u001b[33mThe permitted values are \u001b[39m\u001b[33m\"\u001b[39m\u001b[33mpass-through\u001b[39m\u001b[33m\"\u001b[39m\u001b[33m, \u001b[39m\u001b[33m\"\u001b[39m\u001b[33mas-characters\u001b[39m\u001b[33m\"\u001b[39m\u001b[33m, \u001b[39m\u001b[33m\"\u001b[39m\u001b[33mpromote\u001b[39m\u001b[33m\"\u001b[39m\u001b[33m, and \u001b[39m\u001b[33m\"\u001b[39m\u001b[33merror\u001b[39m\u001b[33m\"\u001b[39m\u001b[33m.\u001b[39m\u001b[33m'\u001b[39m\n\u001b[32m    264\u001b[39m         )\n\u001b[32m    265\u001b[39m \u001b[38;5;28;01melif\u001b[39;00m \u001b[38;5;28misinstance\u001b[39m(obj, (datetime, date, time, Number, \u001b[38;5;28mbool\u001b[39m)):\n\u001b[32m--> \u001b[39m\u001b[32m266\u001b[39m     \u001b[38;5;28;01mreturn\u001b[39;00m \u001b[43m_handle_as_primitive\u001b[49m\u001b[43m(\u001b[49m\n\u001b[32m    267\u001b[39m \u001b[43m        \u001b[49m\u001b[43mobj\u001b[49m\u001b[43m,\u001b[49m\n\u001b[32m    268\u001b[39m \u001b[43m        \u001b[49m\u001b[43mak\u001b[49m\u001b[43m.\u001b[49m\u001b[43moperations\u001b[49m\u001b[43m.\u001b[49m\u001b[43mfrom_iter\u001b[49m\u001b[43m(\u001b[49m\u001b[43m[\u001b[49m\u001b[43mobj\u001b[49m\u001b[43m]\u001b[49m\u001b[43m,\u001b[49m\u001b[43m \u001b[49m\u001b[43mhighlevel\u001b[49m\u001b[43m=\u001b[49m\u001b[38;5;28;43;01mFalse\u001b[39;49;00m\u001b[43m)\u001b[49m\u001b[43m,\u001b[49m\n\u001b[32m    269\u001b[39m \u001b[43m        \u001b[49m\u001b[43mprimitive_policy\u001b[49m\u001b[43m=\u001b[49m\u001b[43mprimitive_policy\u001b[49m\u001b[43m,\u001b[49m\n\u001b[32m    270\u001b[39m \u001b[43m    \u001b[49m\u001b[43m)\u001b[49m\n\u001b[32m    271\u001b[39m \u001b[38;5;28;01melif\u001b[39;00m obj \u001b[38;5;129;01mis\u001b[39;00m \u001b[38;5;28;01mNone\u001b[39;00m:\n\u001b[32m    272\u001b[39m     \u001b[38;5;28;01mreturn\u001b[39;00m _handle_as_none(\n\u001b[32m    273\u001b[39m         obj,\n\u001b[32m    274\u001b[39m         ak.operations.from_iter([obj], highlevel=\u001b[38;5;28;01mFalse\u001b[39;00m),\n\u001b[32m    275\u001b[39m         none_policy=none_policy,\n\u001b[32m    276\u001b[39m     )\n",
      "\u001b[36mFile \u001b[39m\u001b[32mc:\\Users\\gordo\\Code\\atlas\\sx_training_fetch\\.venv\\Lib\\site-packages\\awkward\\operations\\ak_to_layout.py:111\u001b[39m, in \u001b[36m_handle_as_primitive\u001b[39m\u001b[34m(obj, layout, primitive_policy)\u001b[39m\n\u001b[32m    109\u001b[39m     \u001b[38;5;28;01mreturn\u001b[39;00m layout\n\u001b[32m    110\u001b[39m \u001b[38;5;28;01melif\u001b[39;00m primitive_policy == \u001b[33m\"\u001b[39m\u001b[33merror\u001b[39m\u001b[33m\"\u001b[39m:\n\u001b[32m--> \u001b[39m\u001b[32m111\u001b[39m     \u001b[38;5;28;01mraise\u001b[39;00m \u001b[38;5;167;01mTypeError\u001b[39;00m(\n\u001b[32m    112\u001b[39m         \u001b[33mf\u001b[39m\u001b[33m\"\u001b[39m\u001b[33mEncountered a scalar (\u001b[39m\u001b[38;5;132;01m{\u001b[39;00m\u001b[38;5;28mtype\u001b[39m(obj).\u001b[34m__name__\u001b[39m\u001b[38;5;132;01m}\u001b[39;00m\u001b[33m), but scalar conversion/promotion is disabled\u001b[39m\u001b[33m\"\u001b[39m\n\u001b[32m    113\u001b[39m     )\n\u001b[32m    114\u001b[39m \u001b[38;5;28;01melse\u001b[39;00m:\n\u001b[32m    115\u001b[39m     \u001b[38;5;28;01mraise\u001b[39;00m \u001b[38;5;167;01mValueError\u001b[39;00m(\n\u001b[32m    116\u001b[39m         \u001b[33mf\u001b[39m\u001b[33m\"\u001b[39m\u001b[33mEncountered an invalid primitive policy value \u001b[39m\u001b[38;5;132;01m{\u001b[39;00mprimitive_policy\u001b[38;5;132;01m!r}\u001b[39;00m\u001b[33m. \u001b[39m\u001b[33m\"\u001b[39m\n\u001b[32m    117\u001b[39m         \u001b[33mf\u001b[39m\u001b[33m'\u001b[39m\u001b[33mThe permitted values are \u001b[39m\u001b[33m\"\u001b[39m\u001b[33mpass-through\u001b[39m\u001b[33m\"\u001b[39m\u001b[33m, \u001b[39m\u001b[33m\"\u001b[39m\u001b[33mpromote\u001b[39m\u001b[33m\"\u001b[39m\u001b[33m, and \u001b[39m\u001b[33m\"\u001b[39m\u001b[33merror\u001b[39m\u001b[33m\"\u001b[39m\u001b[33m.\u001b[39m\u001b[33m'\u001b[39m\n\u001b[32m    118\u001b[39m     )\n",
      "\u001b[31mTypeError\u001b[39m: Encountered a scalar (int), but scalar conversion/promotion is disabled",
      "\nThis error occurred while calling\n\n    ak.to_layout(\n        450000\n        allow_record = False\n        regulararray = False\n        primitive_policy = 'error'\n    )"
     ]
    }
   ],
   "source": []
  },
  {
   "cell_type": "code",
   "execution_count": 71,
   "id": "e970fb14",
   "metadata": {},
   "outputs": [
    {
     "data": {
      "text/html": [
       "<pre>[450000,\n",
       " 450000,\n",
       " 450000,\n",
       " 450000,\n",
       " 450000,\n",
       " 450000,\n",
       " 450000,\n",
       " 450000,\n",
       " 450000]\n",
       "--------\n",
       "backend: cpu\n",
       "nbytes: 735.3 kB\n",
       "type: 9 * uint32</pre>"
      ],
      "text/plain": [
       "<Array [450000, 450000, 450000, ..., 450000, 450000, 450000] type='9 * uint32'>"
      ]
     },
     "execution_count": 71,
     "metadata": {},
     "output_type": "execute_result"
    }
   ],
   "source": [
    "group_event_LLP1[:].run[0][0]"
   ]
  },
  {
   "cell_type": "code",
   "execution_count": 56,
   "id": "9799b152",
   "metadata": {},
   "outputs": [
    {
     "data": {
      "text/html": [
       "<pre>[[30001],\n",
       " [30002],\n",
       " [30003],\n",
       " [30004],\n",
       " [30005],\n",
       " [30006],\n",
       " [30007],\n",
       " [30008],\n",
       " [30009],\n",
       " [30010],\n",
       " ...,\n",
       " [59992],\n",
       " [59993],\n",
       " [59994],\n",
       " [59995],\n",
       " [59996],\n",
       " [59997],\n",
       " [59998],\n",
       " [59999],\n",
       " [60000]]\n",
       "---------\n",
       "backend: cpu\n",
       "nbytes: 270.0 kB\n",
       "type: 30000 * 1 * ?uint64</pre>"
      ],
      "text/plain": [
       "<Array [[30001], [30002], ..., [59999], [60000]] type='30000 * 1 * ?uint64'>"
      ]
     },
     "execution_count": 56,
     "metadata": {},
     "output_type": "execute_result"
    }
   ],
   "source": [
    "ak.max(group_event_LLP1[0].evt, keepdims=True, axis=1)"
   ]
  },
  {
   "cell_type": "code",
   "execution_count": null,
   "id": "cee6a225",
   "metadata": {},
   "outputs": [],
   "source": []
  }
 ],
 "metadata": {
  "kernelspec": {
   "display_name": ".venv",
   "language": "python",
   "name": "python3"
  },
  "language_info": {
   "codemirror_mode": {
    "name": "ipython",
    "version": 3
   },
   "file_extension": ".py",
   "mimetype": "text/x-python",
   "name": "python",
   "nbconvert_exporter": "python",
   "pygments_lexer": "ipython3",
   "version": "3.13.5"
  }
 },
 "nbformat": 4,
 "nbformat_minor": 5
}
