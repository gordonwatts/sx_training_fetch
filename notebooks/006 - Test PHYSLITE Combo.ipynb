{
 "cells": [
  {
   "cell_type": "markdown",
   "id": "774e89c3",
   "metadata": {},
   "source": [
    "# Test PHYSLITE Combination\n",
    "\n",
    "This notebook will test ideas for combining the calibrated values from PHYSLITE and the uncalibrated values from LLP1.\n",
    "\n",
    "* Should be faster than running calibrations of LLP1\n",
    "* Will be an in-memory test, which likely won't work for the full dataset.\n",
    "\n",
    "The datasets we'll use:"
   ]
  },
  {
   "cell_type": "code",
   "execution_count": null,
   "id": "9891dd43",
   "metadata": {},
   "outputs": [],
   "source": [
    "did_LLP1 = \"mc23_13p6TeV:mc23_13p6TeV.802746.Py8EG_Zprime2EJs_Ld20_rho40_pi10_Zp2600_l1.deriv.DAOD_LLP1.e8531_s4159_r15530_p6463\"\n",
    "did_PHYSLITE = \"mc23_13p6TeV:mc23_13p6TeV.802746.Py8EG_Zprime2EJs_Ld20_rho40_pi10_Zp2600_l1.deriv.DAOD_PHYSLITE.e8531_s4159_r15530_p6491\""
   ]
  },
  {
   "cell_type": "markdown",
   "id": "fe2b6a16",
   "metadata": {},
   "source": [
    "## Imports"
   ]
  },
  {
   "cell_type": "code",
   "execution_count": null,
   "id": "3321653d",
   "metadata": {},
   "outputs": [],
   "source": [
    "import awkward as ak\n",
    "import numpy as np\n",
    "from func_adl_servicex_xaodr25 import FuncADLQueryPHYSLITE\n",
    "from servicex import Sample, ServiceXSpec, dataset, deliver\n",
    "from servicex_analysis_utils import to_awk\n",
    "\n",
    "from calratio_training_data import RunConfig, fetch_training_data"
   ]
  },
  {
   "cell_type": "markdown",
   "id": "49ee51ba",
   "metadata": {},
   "source": [
    "## Fetching the data\n",
    "\n",
    "First the PHYSLITE data. We have to do this by hand, of course."
   ]
  },
  {
   "cell_type": "code",
   "execution_count": null,
   "id": "81dc5fb7",
   "metadata": {},
   "outputs": [],
   "source": [
    "# Define the base query\n",
    "base_query = FuncADLQueryPHYSLITE()\n",
    "\n",
    "# Query to fetch muons and MET\n",
    "query = base_query.Select(\n",
    "    lambda e: {\n",
    "        \"jets\": e.Jets().Where(lambda j: j.pt() >= 40 and abs(j.eta()) < 2.5),\n",
    "        \"event_info\": e.EventInfo(\"EventInfo\"),\n",
    "    }\n",
    ").Select(\n",
    "    lambda e: {\n",
    "        \"jet_pt\": e.jets.Select(lambda jet: jet.pt() / 1000.0),\n",
    "        \"jet_eta\": e.jets.Select(lambda jet: jet.eta()),\n",
    "        \"jet_phi\": e.jets.Select(lambda jet: jet.phi()),\n",
    "        \"run\": e.event_info.runNumber(),\n",
    "        \"event\": e.event_info.eventNumber(),\n",
    "    }\n",
    ")\n",
    "\n",
    "# Fetch the data\n",
    "data = to_awk(\n",
    "    deliver(\n",
    "        ServiceXSpec(\n",
    "            Sample=[\n",
    "                Sample(\n",
    "                    Name=\"did_PHYSLITE\",\n",
    "                    Dataset=dataset.Rucio(did_PHYSLITE),\n",
    "                    Query=query,\n",
    "                )\n",
    "            ]\n",
    "        ),\n",
    "    )\n",
    ")[\"did_PHYSLITE\"]\n",
    "\n",
    "# Next, reformat it so it is per-jet, the way our training data is\n",
    "data_PHYSLITE = ak.values_astype(\n",
    "    ak.zip(\n",
    "        {\n",
    "            \"pt\": ak.flatten(data[\"jet_pt\"]),\n",
    "            \"eta\": ak.flatten(data[\"jet_eta\"]),\n",
    "            \"phi\": ak.flatten(data[\"jet_phi\"]),\n",
    "            \"runNumber\": ak.flatten(\n",
    "                ak.broadcast_arrays(data[\"run\"], data[\"jet_pt\"])[0], axis=1\n",
    "            ),\n",
    "            \"eventNumber\": ak.flatten(\n",
    "                ak.broadcast_arrays(data[\"event\"], data[\"jet_pt\"])[0], axis=1\n",
    "            ),\n",
    "        },\n",
    "        with_name=\"Momentum3D\",\n",
    "    ),\n",
    "    np.float32,\n",
    ")\n",
    "\n",
    "data_PHYSLITE.type.show()"
   ]
  },
  {
   "cell_type": "markdown",
   "id": "b11a74d2",
   "metadata": {},
   "source": [
    "And the training data\n",
    "\n",
    "* For this test we had to turn off the jet cleaning tool, as this version of LLP1 does not have the jet cleaning data. This was done by modifying the source code by hand (and hopefully not checking it in!).\n",
    "    * Modify the `training_query.py` `good_training_jet` function - comment out the call to `jet_clean_llp`."
   ]
  },
  {
   "cell_type": "code",
   "execution_count": null,
   "id": "df03b6d7",
   "metadata": {},
   "outputs": [],
   "source": [
    "data_LLP1 = fetch_training_data(did_LLP1, RunConfig(run_locally=False, ignore_cache=False))\n",
    "data_LLP1.type.show()"
   ]
  },
  {
   "cell_type": "markdown",
   "id": "1f08fb7b",
   "metadata": {},
   "source": [
    "## Combining"
   ]
  },
  {
   "cell_type": "markdown",
   "id": "da64b752",
   "metadata": {},
   "source": [
    "This combination is done in memory to test out the basic mechanism."
   ]
  },
  {
   "cell_type": "code",
   "execution_count": null,
   "id": "6711166d",
   "metadata": {},
   "outputs": [],
   "source": [
    "def group_by_event(d):\n",
    "    key = ak.zip({\"run\": d.runNumber, \"evt\":d.eventNumber}, depth_limit=1)\n",
    "    run_ordered = ak.argsort(key.run, stable=True)\n",
    "    run_runs = ak.run_lengths(key[run_ordered].run)\n",
    "    key_by_event = ak.unflatten(key[run_ordered], run_runs)\n",
    "\n",
    "    event_ordered = ak.argsort(key_by_event.evt, stable=True, axis=-1)\n",
    "    event_runs = ak.run_lengths(key_by_event[event_ordered].evt)\n",
    "    group_event = ak.unflatten(key_by_event[event_ordered], ak.flatten(event_runs), axis=-1)\n",
    "\n",
    "    return group_event\n",
    "\n",
    "group_event_PHYSLITE = group_by_event(data_PHYSLITE)\n",
    "group_event_LLP1 = group_by_event(data_LLP1)"
   ]
  },
  {
   "cell_type": "code",
   "execution_count": null,
   "id": "33c2b652",
   "metadata": {},
   "outputs": [],
   "source": [
    "group_event_LLP1[0][5]"
   ]
  },
  {
   "cell_type": "markdown",
   "id": "0ef5cc50",
   "metadata": {},
   "source": []
  }
 ],
 "metadata": {
  "kernelspec": {
   "display_name": ".venv",
   "language": "python",
   "name": "python3"
  },
  "language_info": {
   "codemirror_mode": {
    "name": "ipython",
    "version": 3
   },
   "file_extension": ".py",
   "mimetype": "text/x-python",
   "name": "python",
   "nbconvert_exporter": "python",
   "pygments_lexer": "ipython3",
   "version": "3.13.2"
  }
 },
 "nbformat": 4,
 "nbformat_minor": 5
}
