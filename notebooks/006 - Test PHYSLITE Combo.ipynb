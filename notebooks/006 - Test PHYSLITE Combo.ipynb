{
 "cells": [
  {
   "cell_type": "markdown",
   "id": "774e89c3",
   "metadata": {},
   "source": [
    "# Test PHYSLITE Combination\n",
    "\n",
    "This notebook will test ideas for combining the calibrated values from PHYSLITE and the uncalibrated values from LLP1.\n",
    "\n",
    "* Should be faster than running calibrations of LLP1\n",
    "* Will be an in-memory test, which likely won't work for the full dataset.\n",
    "\n",
    "The datasets we'll use:"
   ]
  },
  {
   "cell_type": "code",
   "execution_count": 1,
   "id": "9891dd43",
   "metadata": {},
   "outputs": [],
   "source": [
    "did_LLP1 = \"mc23_13p6TeV:mc23_13p6TeV.802746.Py8EG_Zprime2EJs_Ld20_rho40_pi10_Zp2600_l1.deriv.DAOD_LLP1.e8531_s4159_r15530_p6463\"\n",
    "did_PHYSLITE = \"mc23_13p6TeV:mc23_13p6TeV.802746.Py8EG_Zprime2EJs_Ld20_rho40_pi10_Zp2600_l1.deriv.DAOD_PHYSLITE.e8531_s4159_r15530_p6491\""
   ]
  },
  {
   "cell_type": "markdown",
   "id": "fe2b6a16",
   "metadata": {},
   "source": [
    "## Imports"
   ]
  },
  {
   "cell_type": "code",
   "execution_count": 2,
   "id": "3321653d",
   "metadata": {},
   "outputs": [
    {
     "name": "stderr",
     "output_type": "stream",
     "text": [
      "/home/gwatts/code/atlas/sx_training_fetch/.venv/lib/python3.13/site-packages/func_adl_servicex_xaodr25/trigger.py:126: SyntaxWarning: invalid escape sequence '\\D'\n",
      "  '''Returns true if the `offline_object` is a close match to the trigger\n"
     ]
    }
   ],
   "source": [
    "import awkward as ak\n",
    "import numpy as np\n",
    "from func_adl_servicex_xaodr25 import FuncADLQueryPHYSLITE\n",
    "from servicex import Sample, ServiceXSpec, dataset, deliver\n",
    "from servicex_analysis_utils import to_awk\n",
    "\n",
    "from calratio_training_data import RunConfig, fetch_training_data"
   ]
  },
  {
   "cell_type": "markdown",
   "id": "49ee51ba",
   "metadata": {},
   "source": [
    "## Fetching the data\n",
    "\n",
    "First the PHYSLITE data. We have to do this by hand, of course."
   ]
  },
  {
   "cell_type": "code",
   "execution_count": 3,
   "id": "81dc5fb7",
   "metadata": {},
   "outputs": [
    {
     "data": {
      "application/vnd.jupyter.widget-view+json": {
       "model_id": "99ec06bd6d4f4591a39f69da92936b0e",
       "version_major": 2,
       "version_minor": 0
      },
      "text/plain": [
       "Output()"
      ]
     },
     "metadata": {},
     "output_type": "display_data"
    },
    {
     "data": {
      "text/html": [
       "<pre style=\"white-space:pre;overflow-x:auto;line-height:normal;font-family:Menlo,'DejaVu Sans Mono',consolas,'Courier New',monospace\"></pre>\n"
      ],
      "text/plain": []
     },
     "metadata": {},
     "output_type": "display_data"
    },
    {
     "name": "stdout",
     "output_type": "stream",
     "text": [
      "411807 * Momentum3D[\n",
      "    pt: float32,\n",
      "    eta: float32,\n",
      "    phi: float32,\n",
      "    runNumber: float32,\n",
      "    eventNumber: float32\n",
      "]\n"
     ]
    }
   ],
   "source": [
    "# Define the base query\n",
    "base_query = FuncADLQueryPHYSLITE()\n",
    "\n",
    "# Query to fetch muons and MET\n",
    "query = base_query.Select(\n",
    "    lambda e: {\n",
    "        \"jets\": e.Jets().Where(lambda j: j.pt() >= 40 and abs(j.eta()) < 2.5),\n",
    "        \"event_info\": e.EventInfo(\"EventInfo\"),\n",
    "    }\n",
    ").Select(\n",
    "    lambda e: {\n",
    "        \"jet_pt\": e.jets.Select(lambda jet: jet.pt() / 1000.0),\n",
    "        \"jet_eta\": e.jets.Select(lambda jet: jet.eta()),\n",
    "        \"jet_phi\": e.jets.Select(lambda jet: jet.phi()),\n",
    "        \"run\": e.event_info.runNumber(),\n",
    "        \"event\": e.event_info.eventNumber(),\n",
    "    }\n",
    ")\n",
    "\n",
    "# Fetch the data\n",
    "data = to_awk(\n",
    "    deliver(\n",
    "        ServiceXSpec(\n",
    "            Sample=[\n",
    "                Sample(\n",
    "                    Name=\"did_PHYSLITE\",\n",
    "                    Dataset=dataset.Rucio(did_PHYSLITE),\n",
    "                    Query=query,\n",
    "                )\n",
    "            ]\n",
    "        ),\n",
    "    )\n",
    ")[\"did_PHYSLITE\"]\n",
    "\n",
    "# Next, reformat it so it is per-jet, the way our training data is\n",
    "data_LLP1 = ak.values_astype(\n",
    "    ak.zip(\n",
    "        {\n",
    "            \"pt\": ak.flatten(data[\"jet_pt\"]),\n",
    "            \"eta\": ak.flatten(data[\"jet_eta\"]),\n",
    "            \"phi\": ak.flatten(data[\"jet_phi\"]),\n",
    "            \"runNumber\": ak.flatten(\n",
    "                ak.broadcast_arrays(data[\"run\"], data[\"jet_pt\"])[0], axis=1\n",
    "            ),\n",
    "            \"eventNumber\": ak.flatten(\n",
    "                ak.broadcast_arrays(data[\"event\"], data[\"jet_pt\"])[0], axis=1\n",
    "            ),\n",
    "        },\n",
    "        with_name=\"Momentum3D\",\n",
    "    ),\n",
    "    np.float32,\n",
    ")\n",
    "\n",
    "data_LLP1.type.show()"
   ]
  },
  {
   "cell_type": "markdown",
   "id": "b11a74d2",
   "metadata": {},
   "source": [
    "And the training data\n",
    "\n",
    "* For this test we had to turn off the jet cleaning tool, as this version of LLP1 does not have the jet cleaning data. This was done by modifying the source code by hand (and hopefully not checking it in!).\n",
    "    * Modify the `training_query.py` `good_training_jet` function - comment out the call to `jet_clean_llp`."
   ]
  },
  {
   "cell_type": "code",
   "execution_count": 6,
   "id": "df03b6d7",
   "metadata": {},
   "outputs": [
    {
     "data": {
      "application/vnd.jupyter.widget-view+json": {
       "model_id": "6f20f9a639e847628831d42ce94bca84",
       "version_major": 2,
       "version_minor": 0
      },
      "text/plain": [
       "Output()"
      ]
     },
     "metadata": {},
     "output_type": "display_data"
    },
    {
     "data": {
      "text/html": [
       "<pre style=\"white-space:pre;overflow-x:auto;line-height:normal;font-family:Menlo,'DejaVu Sans Mono',consolas,'Courier New',monospace\"></pre>\n"
      ],
      "text/plain": []
     },
     "metadata": {},
     "output_type": "display_data"
    },
    {
     "name": "stdout",
     "output_type": "stream",
     "text": [
      "183797 * Momentum3D[\n",
      "    runNumber: uint32,\n",
      "    eventNumber: uint64,\n",
      "    pt: float32,\n",
      "    eta: float32,\n",
      "    phi: float32,\n",
      "    tracks: var * Momentum3D[\n",
      "        eta: float32,\n",
      "        phi: float32,\n",
      "        pt: float32,\n",
      "        vertex_nParticles: float32,\n",
      "        d0: float32,\n",
      "        z0: float32,\n",
      "        chiSquared: float32,\n",
      "        PixelShared: float32,\n",
      "        SCTShared: float32,\n",
      "        PixelHoles: float32,\n",
      "        SCTHoles: float32,\n",
      "        PixelHits: float32,\n",
      "        SCTHits: float32\n",
      "    ],\n",
      "    clusters: var * Momentum3D[\n",
      "        eta: float32,\n",
      "        phi: float32,\n",
      "        pt: float32,\n",
      "        l1hcal: float32,\n",
      "        l2hcal: float32,\n",
      "        l3hcal: float32,\n",
      "        l4hcal: float32,\n",
      "        l1ecal: float32,\n",
      "        l2ecal: float32,\n",
      "        l3ecal: float32,\n",
      "        l4ecal: float32,\n",
      "        time: float32\n",
      "    ],\n",
      "    msegs: var * {\n",
      "        etaPos: float32,\n",
      "        phiPos: float32,\n",
      "        etaDir: float32,\n",
      "        phiDir: float32,\n",
      "        t0: float32,\n",
      "        chiSquared: float32\n",
      "    }\n",
      "]\n"
     ]
    }
   ],
   "source": [
    "data_LLP1 = fetch_training_data(did_LLP1, RunConfig(run_locally=False, ignore_cache=False))\n",
    "data_LLP1.type.show()"
   ]
  },
  {
   "cell_type": "markdown",
   "id": "1f08fb7b",
   "metadata": {},
   "source": [
    "## Combining"
   ]
  },
  {
   "cell_type": "markdown",
   "id": "da64b752",
   "metadata": {},
   "source": []
  }
 ],
 "metadata": {
  "kernelspec": {
   "display_name": ".venv",
   "language": "python",
   "name": "python3"
  },
  "language_info": {
   "codemirror_mode": {
    "name": "ipython",
    "version": 3
   },
   "file_extension": ".py",
   "mimetype": "text/x-python",
   "name": "python",
   "nbconvert_exporter": "python",
   "pygments_lexer": "ipython3",
   "version": "3.13.2"
  }
 },
 "nbformat": 4,
 "nbformat_minor": 5
}
