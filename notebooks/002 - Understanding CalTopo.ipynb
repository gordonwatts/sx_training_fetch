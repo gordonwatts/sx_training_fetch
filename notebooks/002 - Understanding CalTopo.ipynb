{
 "cells": [
  {
   "cell_type": "markdown",
   "metadata": {},
   "source": []
  },
  {
   "cell_type": "markdown",
   "metadata": {},
   "source": [
    "# Understanding CaloCalTopoClusters vs CalTopoClusters\n",
    "\n",
    "The training needs the calorimeter clusters as input - this is probably the most important input into the training algorithm. Hence, we should at least be conscious of any change we are going to make to those inputs.\n",
    "\n",
    "Main points of discussion below:\n",
    "\n",
    "* point 1"
   ]
  },
  {
   "cell_type": "markdown",
   "metadata": {},
   "source": [
    "## Run 2\n",
    "\n",
    "In run 2 we can find the training cluster code extractions in [DiVertAnalysis](https://gitlab.cern.ch/atlas-phys-exotics-llp-mscrid/fullrun2analysis/DiVertAnalysisR21) [here](https://gitlab.cern.ch/atlas-phys-exotics-llp-mscrid/fullrun2analysis/DiVertAnalysisR21/-/blob/master/DiVertAnalysis/Root/RegionVarCalculator_calRatio.cxx#L384):\n",
    "\n",
    "```c++\n",
    "...\n",
    "int jetIndex = 0;\n",
    "for (const auto &jet : *jets_nominal)\n",
    "  {\n",
    "    // CalRatio LLP NN variables\n",
    "    xAOD::JetConstituentVector constits = jet->getConstituents();\n",
    "    addToVectorBranch(vars, \"nn_jet_index\", jetIndex);\n",
    "\n",
    "    // Arrays for fdeep\n",
    "    double clus_pt_arr[30] = {};\n",
    "    ...\n",
    "\n",
    "    // Need counter to stop after 30 constituents\n",
    "    int constit_counter = 0;\n",
    "\n",
    "    // add constituents to ntuple, and also for fdeep arrays\n",
    "    for (const auto &c : constits)\n",
    "    {\n",
    "\n",
    "      const xAOD::IParticle *rawObj = c->rawConstituent();\n",
    "      const xAOD::CaloCluster *cl = dynamic_cast<const xAOD::CaloCluster *>(rawObj);\n",
    "\n",
    "      addToVectorBranch(vars, \"cluster_jetIndex\", jetIndex);\n",
    "\n",
    "      addToVectorBranch(vars, \"clus_pt\", c->pt());\n",
    "      if (constit_counter < 30)\n",
    "        clus_pt_arr[constit_counter] = c->pt();\n",
    "      ...\n",
    "    }\n",
    "\n",
    "    ...\n",
    "\n",
    "    if (isCleanJet_LooseBadLLP && (jet->pt() > 40000) && (fabs(jet->eta()) < 2.5))\n",
    "    {\n",
    "      // pre-process arrays in CalRatioUtils to match training pre-processing in python\n",
    "      CalRatioUtils::getNNoutput(clus_pt_arr, clus_eta_arr, clus_phi_arr, clus_l1ecal_arr, clus_l2ecal_arr,\n",
    "                                 clus_l3ecal_arr, clus_l4ecal_arr, clus_l1hcal_arr, clus_l2hcal_arr, clus_l3hcal_arr, clus_l4hcal_arr,\n",
    "                                 clus_time_arr, track_pt_arr, track_eta_arr, track_phi_arr, track_vertex_nParticles_arr, track_chiSquared_arr,\n",
    "                                 track_d0_arr, track_z0_arr, track_pixShared_arr, track_sctShared_arr, track_pixHoles_arr, track_sctHoles_arr,\n",
    "                                 track_pixHits_arr, track_sctHits_arr, jet->eta(), jet->phi(), jet->pt(), mseg_etaPos_arr, mseg_phiPos_arr,\n",
    "                                 mseg_etaDir_arr, mseg_phiDir_arr, mseg_t0_arr, mseg_chiSquared_arr, inputs, input_sequences,\n",
    "                                 &clusters, &tracks, &msegs, &jets, false);\n",
    "\n",
    "      ...\n",
    "    }\n",
    "\n",
    "    jetIndex++;\n",
    "  }\n",
    "```"
   ]
  },
  {
   "cell_type": "markdown",
   "metadata": {},
   "source": [
    "Note a few things:\n",
    "\n",
    "* We loop over `jet->getConstituents()` to get at the constituents.\n",
    "* We are expecting these are the calo clusters that were used in jet reconstruction.\n",
    "* I think they are pointing at the CaloClusters in the file."
   ]
  },
  {
   "cell_type": "code",
   "execution_count": null,
   "metadata": {},
   "outputs": [],
   "source": []
  }
 ],
 "metadata": {
  "kernelspec": {
   "display_name": ".venv",
   "language": "python",
   "name": "python3"
  },
  "language_info": {
   "name": "python",
   "version": "3.13.1"
  }
 },
 "nbformat": 4,
 "nbformat_minor": 2
}
